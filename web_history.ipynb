{
 "cells": [
  {
   "cell_type": "code",
   "execution_count": null,
   "metadata": {},
   "outputs": [
    {
     "ename": "FileNotFoundError",
     "evalue": "[Errno 2] No such file or directory: 'your_large_pdf.pdf'",
     "output_type": "error",
     "traceback": [
      "\u001b[1;31m---------------------------------------------------------------------------\u001b[0m",
      "\u001b[1;31mFileNotFoundError\u001b[0m                         Traceback (most recent call last)",
      "Cell \u001b[1;32mIn [1], line 22\u001b[0m\n\u001b[0;32m     19\u001b[0m     match \u001b[38;5;241m=\u001b[39m heading_pattern\u001b[38;5;241m.\u001b[39mmatch(line\u001b[38;5;241m.\u001b[39mstrip())\n\u001b[0;32m     20\u001b[0m     \u001b[38;5;28;01mreturn\u001b[39;00m match\u001b[38;5;241m.\u001b[39mgroup(\u001b[38;5;241m1\u001b[39m) \u001b[38;5;28;01mif\u001b[39;00m match \u001b[38;5;28;01melse\u001b[39;00m \u001b[38;5;28;01mNone\u001b[39;00m\n\u001b[1;32m---> 22\u001b[0m \u001b[38;5;28;01mwith\u001b[39;00m \u001b[43mpdfplumber\u001b[49m\u001b[38;5;241;43m.\u001b[39;49m\u001b[43mopen\u001b[49m\u001b[43m(\u001b[49m\u001b[43mpdf_path\u001b[49m\u001b[43m)\u001b[49m \u001b[38;5;28;01mas\u001b[39;00m pdf:\n\u001b[0;32m     23\u001b[0m     \u001b[38;5;28;01mfor\u001b[39;00m page_num, page \u001b[38;5;129;01min\u001b[39;00m \u001b[38;5;28menumerate\u001b[39m(pdf\u001b[38;5;241m.\u001b[39mpages):\n\u001b[0;32m     24\u001b[0m         text \u001b[38;5;241m=\u001b[39m page\u001b[38;5;241m.\u001b[39mextract_text()\n",
      "File \u001b[1;32mc:\\Users\\Yash lichade\\AppData\\Local\\Programs\\Python\\Python311\\Lib\\site-packages\\pdfplumber\\pdf.py:95\u001b[0m, in \u001b[0;36mPDF.open\u001b[1;34m(cls, path_or_fp, pages, laparams, password, strict_metadata, unicode_norm, repair, gs_path, repair_setting, raise_unicode_errors)\u001b[0m\n\u001b[0;32m     93\u001b[0m     path \u001b[38;5;241m=\u001b[39m \u001b[38;5;28;01mNone\u001b[39;00m\n\u001b[0;32m     94\u001b[0m \u001b[38;5;28;01melif\u001b[39;00m \u001b[38;5;28misinstance\u001b[39m(path_or_fp, (\u001b[38;5;28mstr\u001b[39m, pathlib\u001b[38;5;241m.\u001b[39mPath)):\n\u001b[1;32m---> 95\u001b[0m     stream \u001b[38;5;241m=\u001b[39m \u001b[38;5;28;43mopen\u001b[39;49m\u001b[43m(\u001b[49m\u001b[43mpath_or_fp\u001b[49m\u001b[43m,\u001b[49m\u001b[43m \u001b[49m\u001b[38;5;124;43m\"\u001b[39;49m\u001b[38;5;124;43mrb\u001b[39;49m\u001b[38;5;124;43m\"\u001b[39;49m\u001b[43m)\u001b[49m\n\u001b[0;32m     96\u001b[0m     stream_is_external \u001b[38;5;241m=\u001b[39m \u001b[38;5;28;01mFalse\u001b[39;00m\n\u001b[0;32m     97\u001b[0m     path \u001b[38;5;241m=\u001b[39m pathlib\u001b[38;5;241m.\u001b[39mPath(path_or_fp)\n",
      "\u001b[1;31mFileNotFoundError\u001b[0m: [Errno 2] No such file or directory: 'your_large_pdf.pdf'"
     ]
    }
   ],
   "source": [
    "import pdfplumber\n",
    "import re\n",
    "\n",
    "pdf_path = \"Mobile_dataset.pdf\"\n",
    "sections = {\n",
    "    \"Applications Usage Log\": [],\n",
    "    \"Call Log\": [],\n",
    "    \"Chats\": [],\n",
    "    \"Searched Items\": [],\n",
    "    \"Web History\": []\n",
    "}\n",
    "current_section = None\n",
    "\n",
    "# Regex pattern to detect ONLY the required headings\n",
    "heading_pattern = re.compile(r\"^(Applications Usage Log|Call Log|Chats|Searched Items|Web History) \\(\\d+\\)$\")\n",
    "\n",
    "def is_required_heading(line):\n",
    "    \"\"\"Check if the line is one of the required section headings.\"\"\"\n",
    "    match = heading_pattern.match(line.strip())\n",
    "    return match.group(1) if match else None\n",
    "\n",
    "with pdfplumber.open(pdf_path) as pdf:\n",
    "    for page_num, page in enumerate(pdf.pages):\n",
    "        text = page.extract_text()\n",
    "        if text:\n",
    "            lines = text.split(\"\\n\")\n",
    "\n",
    "            for line in lines:\n",
    "                line = line.strip()\n",
    "                section_name = is_required_heading(line)\n",
    "                \n",
    "                if section_name:\n",
    "                    current_section = section_name\n",
    "                elif current_section:\n",
    "                    sections[current_section].append(line)\n",
    "\n",
    "# Convert extracted data into a structured format\n",
    "structured_data = {section: \"\\n\".join(content) for section, content in sections.items()}\n",
    "\n",
    "# Print first few lines of extracted sections\n",
    "for section, content in structured_data.items():\n",
    "    print(f\"\\n=== {section} ===\\n{content[:500]}\")  # Show first 500 characters"
   ]
  },
  {
   "cell_type": "code",
   "execution_count": null,
   "metadata": {},
   "outputs": [],
   "source": []
  }
 ],
 "metadata": {
  "kernelspec": {
   "display_name": "Python 3",
   "language": "python",
   "name": "python3"
  },
  "language_info": {
   "codemirror_mode": {
    "name": "ipython",
    "version": 3
   },
   "file_extension": ".py",
   "mimetype": "text/x-python",
   "name": "python",
   "nbconvert_exporter": "python",
   "pygments_lexer": "ipython3",
   "version": "3.11.0"
  }
 },
 "nbformat": 4,
 "nbformat_minor": 2
}
